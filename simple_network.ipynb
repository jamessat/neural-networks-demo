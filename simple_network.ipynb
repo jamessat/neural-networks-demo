{
  "nbformat": 4,
  "nbformat_minor": 0,
  "metadata": {
    "colab": {
      "provenance": [],
      "toc_visible": true,
      "authorship_tag": "ABX9TyOS6rvz134l5Aw4+CAYyf6K",
      "include_colab_link": true
    },
    "kernelspec": {
      "name": "python3",
      "display_name": "Python 3"
    },
    "language_info": {
      "name": "python"
    }
  },
  "cells": [
    {
      "cell_type": "markdown",
      "metadata": {
        "id": "view-in-github",
        "colab_type": "text"
      },
      "source": [
        "<a href=\"https://colab.research.google.com/github/jamessat/neural-networks-demo/blob/main/simple_network.ipynb\" target=\"_parent\"><img src=\"https://colab.research.google.com/assets/colab-badge.svg\" alt=\"Open In Colab\"/></a>"
      ]
    },
    {
      "cell_type": "markdown",
      "metadata": {
        "id": "2104a0f5"
      },
      "source": [
        "# Task\n",
        "Create a much simpler example of a neural network from scratch in Python, without using high-level libraries like TensorFlow, PyTorch, or Keras, to illustrate the core concepts of neural networks (data preparation, forward propagation, loss calculation, backward propagation, optimization, training, and evaluation) using a small, easily visualizable dataset."
      ]
    },
    {
      "cell_type": "markdown",
      "metadata": {
        "id": "640d9238"
      },
      "source": [
        "## Generate or load simple data\n",
        "\n",
        "### Subtask:\n",
        "Create a small, simple dataset (e.g., 2 features, 2 classes) that is easy to visualize.\n"
      ]
    },
    {
      "cell_type": "markdown",
      "metadata": {
        "id": "d5da58e3"
      },
      "source": [
        "**Reasoning**:\n",
        "The subtask requires generating a simple dataset using `make_moons` from `sklearn.datasets`. This involves importing the function and then calling it with the specified parameters to create the features and labels.\n",
        "\n"
      ]
    },
    {
      "cell_type": "code",
      "metadata": {
        "colab": {
          "base_uri": "https://localhost:8080/"
        },
        "id": "5974a780",
        "outputId": "c13ae169-064f-406d-ae6e-66b593e6c5ea"
      },
      "source": [
        "from sklearn.datasets import make_moons\n",
        "\n",
        "# Generate the dataset\n",
        "X, y = make_moons(n_samples=100, noise=0.10, random_state=42)\n",
        "\n",
        "print(\"Shape of features (X):\", X.shape)\n",
        "print(\"Shape of labels (y):\", y.shape)"
      ],
      "execution_count": 13,
      "outputs": [
        {
          "output_type": "stream",
          "name": "stdout",
          "text": [
            "Shape of features (X): (100, 2)\n",
            "Shape of labels (y): (100,)\n"
          ]
        }
      ]
    },
    {
      "cell_type": "markdown",
      "metadata": {
        "id": "99f15b18"
      },
      "source": [
        "## Initialize simple network parameters\n",
        "\n",
        "### Subtask:\n",
        "Initialize weights and biases for a single-layer or a very simple two-layer network.\n"
      ]
    },
    {
      "cell_type": "markdown",
      "metadata": {
        "id": "2cb612df"
      },
      "source": [
        "**Reasoning**:\n",
        "Define the network architecture and initialize the weights and biases for a two-layer network.\n",
        "\n"
      ]
    },
    {
      "cell_type": "code",
      "metadata": {
        "colab": {
          "base_uri": "https://localhost:8080/"
        },
        "id": "e26f7770",
        "outputId": "e655a210-dfd1-4148-b675-c794032632b7"
      },
      "source": [
        "# Define the network architecture\n",
        "input_size_simple = X.shape[1]  # Number of features in the simple dataset\n",
        "hidden_size_simple = 5  # Choose a small number of hidden units\n",
        "output_size_simple = 2  # Number of classes in the simple dataset (0 and 1)\n",
        "\n",
        "# Initialize weights and biases for the simple network\n",
        "# Weights are initialized with small random values\n",
        "W1_simple = np.random.randn(input_size_simple, hidden_size_simple) * 0.01\n",
        "# Biases are initialized with zeros\n",
        "b1_simple = np.zeros((1, hidden_size_simple))\n",
        "\n",
        "# Weights for hidden to output layer\n",
        "W2_simple = np.random.randn(hidden_size_simple, output_size_simple) * 0.01\n",
        "# Biases for output layer\n",
        "b2_simple = np.zeros((1, output_size_simple))\n",
        "\n",
        "print(\"Shapes of initialized parameters for the simple network:\")\n",
        "print(\"W1_simple:\", W1_simple.shape)\n",
        "print(\"b1_simple:\", b1_simple.shape)\n",
        "print(\"W2_simple:\", W2_simple.shape)\n",
        "print(\"b2_simple:\", b2_simple.shape)"
      ],
      "execution_count": 14,
      "outputs": [
        {
          "output_type": "stream",
          "name": "stdout",
          "text": [
            "Shapes of initialized parameters for the simple network:\n",
            "W1_simple: (2, 5)\n",
            "b1_simple: (1, 5)\n",
            "W2_simple: (5, 2)\n",
            "b2_simple: (1, 2)\n"
          ]
        }
      ]
    },
    {
      "cell_type": "markdown",
      "metadata": {
        "id": "08cbda65"
      },
      "source": [
        "## Implement simple activation functions\n",
        "\n",
        "### Subtask:\n",
        "Implement the necessary activation functions (e.g., Sigmoid or ReLU).\n"
      ]
    },
    {
      "cell_type": "markdown",
      "metadata": {
        "id": "9f4c4174"
      },
      "source": [
        "**Reasoning**:\n",
        "Implement the sigmoid and ReLU activation functions as requested.\n",
        "\n"
      ]
    },
    {
      "cell_type": "code",
      "metadata": {
        "colab": {
          "base_uri": "https://localhost:8080/"
        },
        "id": "ce90cda2",
        "outputId": "3205ebf4-03c0-4512-a9c7-9db455da5caf"
      },
      "source": [
        "def sigmoid(Z):\n",
        "    \"\"\"\n",
        "    Implement the Sigmoid activation function.\n",
        "\n",
        "    Arguments:\n",
        "    Z -- numpy array of any shape\n",
        "\n",
        "    Returns:\n",
        "    A -- Output of sigmoid(Z), same shape as Z\n",
        "    \"\"\"\n",
        "    A = 1 / (1 + np.exp(-Z))\n",
        "    return A\n",
        "\n",
        "def relu(Z):\n",
        "    \"\"\"\n",
        "    Implement the ReLU activation function.\n",
        "\n",
        "    Arguments:\n",
        "    Z -- numpy array of any shape\n",
        "\n",
        "    Returns:\n",
        "    A -- Output of relu(Z), same shape as Z\n",
        "    \"\"\"\n",
        "    A = np.maximum(0, Z)\n",
        "    return A\n",
        "\n",
        "print(\"Sigmoid and ReLU activation functions are defined.\")"
      ],
      "execution_count": 15,
      "outputs": [
        {
          "output_type": "stream",
          "name": "stdout",
          "text": [
            "Sigmoid and ReLU activation functions are defined.\n"
          ]
        }
      ]
    },
    {
      "cell_type": "markdown",
      "metadata": {
        "id": "2be08974"
      },
      "source": [
        "## Implement forward propagation (simple)\n",
        "\n",
        "### Subtask:\n",
        "Build the forward pass for the simple network.\n"
      ]
    },
    {
      "cell_type": "markdown",
      "metadata": {
        "id": "d5234d34"
      },
      "source": [
        "**Reasoning**:\n",
        "Define the forward propagation function for the simple neural network, including the linear transformations, ReLU activation for the hidden layer, and Softmax activation for the output layer.\n",
        "\n"
      ]
    },
    {
      "cell_type": "code",
      "metadata": {
        "colab": {
          "base_uri": "https://localhost:8080/"
        },
        "id": "75b1d23b",
        "outputId": "ea86e5d7-aee2-4fa4-eee8-1f0c0e3c0f2e"
      },
      "source": [
        "def forward_propagation_simple(X, W1_simple, b1_simple, W2_simple, b2_simple):\n",
        "    \"\"\"\n",
        "    Implement forward propagation for the simple two-layer neural network.\n",
        "\n",
        "    Arguments:\n",
        "    X -- input data (number of examples, input size)\n",
        "    W1_simple -- weights for the hidden layer (input size, hidden size)\n",
        "    b1_simple -- biases for the hidden layer (1, hidden size)\n",
        "    W2_simple -- weights for the output layer (hidden size, output size)\n",
        "    b2_simple -- biases for the output layer (1, output size)\n",
        "\n",
        "    Returns:\n",
        "    A2_simple -- the output of the softmax activation, also known as the post-activation value of the second layer\n",
        "    cache_simple -- a dictionary containing \"Z1_simple\", \"A1_simple\", \"Z2_simple\" needed for the backward pass\n",
        "    \"\"\"\n",
        "    # Layer 1: Linear -> ReLU\n",
        "    Z1_simple = X @ W1_simple + b1_simple\n",
        "    A1_simple = relu(Z1_simple) # Reusing the relu function defined earlier\n",
        "\n",
        "    # Layer 2: Linear -> Softmax\n",
        "    Z2_simple = A1_simple @ W2_simple + b2_simple\n",
        "    A2_simple = softmax(Z2_simple) # Reusing the softmax function defined earlier\n",
        "\n",
        "    cache_simple = {\"Z1_simple\": Z1_simple,\n",
        "                    \"A1_simple\": A1_simple,\n",
        "                    \"Z2_simple\": Z2_simple,\n",
        "                    \"A2_simple\": A2_simple}\n",
        "\n",
        "    return A2_simple, cache_simple\n",
        "\n",
        "print(\"forward_propagation_simple function defined.\")"
      ],
      "execution_count": 16,
      "outputs": [
        {
          "output_type": "stream",
          "name": "stdout",
          "text": [
            "forward_propagation_simple function defined.\n"
          ]
        }
      ]
    },
    {
      "cell_type": "markdown",
      "metadata": {
        "id": "92159719"
      },
      "source": [
        "## Implement loss function (simple)\n",
        "\n",
        "### Subtask:\n",
        "Implement a suitable loss function (e.g., Binary Cross-Entropy for binary classification).\n"
      ]
    },
    {
      "cell_type": "markdown",
      "metadata": {
        "id": "2442771b"
      },
      "source": [
        "**Reasoning**:\n",
        "Implement the compute_loss_simple function as requested, which calculates the binary cross-entropy loss for the simple network's output.\n",
        "\n"
      ]
    },
    {
      "cell_type": "code",
      "metadata": {
        "colab": {
          "base_uri": "https://localhost:8080/"
        },
        "id": "79fcdf8c",
        "outputId": "147273fe-aae6-47d1-e7cf-06efdd4d703c"
      },
      "source": [
        "def compute_loss_simple(A2_simple, Y_simple):\n",
        "    \"\"\"\n",
        "    Computes the binary cross-entropy loss for the simple network.\n",
        "\n",
        "    Arguments:\n",
        "    A2_simple -- The output of the softmax activation (shape: (number of examples, num_classes))\n",
        "    Y_simple -- The true labels (shape: (number of examples,)) - integer class labels\n",
        "\n",
        "    Returns:\n",
        "    loss -- The binary cross-entropy loss\n",
        "    \"\"\"\n",
        "    m = Y_simple.shape[0] # Number of examples\n",
        "    num_classes_simple = A2_simple.shape[1] # Number of classes (should be 2)\n",
        "\n",
        "    # Convert integer labels to one-hot encoding\n",
        "    Y_one_hot_simple = one_hot_encode(Y_simple, num_classes_simple)\n",
        "\n",
        "    # Avoid log(0) by clipping probabilities\n",
        "    epsilon = 1e-12\n",
        "    A2_simple = np.clip(A2_simple, epsilon, 1. - epsilon)\n",
        "\n",
        "    # Calculate binary cross-entropy loss\n",
        "    # Note: For multi-class classification with Softmax output, the cross-entropy loss\n",
        "    # formula is -sum(Y * log(A2)) over all classes and examples.\n",
        "    # For binary classification (2 classes), this is equivalent to binary cross-entropy.\n",
        "    loss = -np.sum(Y_one_hot_simple * np.log(A2_simple)) / m\n",
        "\n",
        "    return loss\n",
        "\n",
        "print(\"compute_loss_simple function defined.\")"
      ],
      "execution_count": 17,
      "outputs": [
        {
          "output_type": "stream",
          "name": "stdout",
          "text": [
            "compute_loss_simple function defined.\n"
          ]
        }
      ]
    },
    {
      "cell_type": "markdown",
      "metadata": {
        "id": "26587a0c"
      },
      "source": [
        "## Implement backward propagation (simple)\n",
        "\n",
        "### Subtask:\n",
        "Build the backward pass for the simple network.\n"
      ]
    },
    {
      "cell_type": "markdown",
      "metadata": {
        "id": "01559a04"
      },
      "source": [
        "**Reasoning**:\n",
        "Implement the backward propagation function for the simple network as described in the instructions.\n",
        "\n"
      ]
    },
    {
      "cell_type": "code",
      "metadata": {
        "colab": {
          "base_uri": "https://localhost:8080/"
        },
        "id": "e113077f",
        "outputId": "90e33c82-e9bf-482b-91ae-6d6c047191e1"
      },
      "source": [
        "def backward_propagation_simple(X, Y, cache_simple, W2_simple):\n",
        "    \"\"\"\n",
        "    Implement the backward propagation for the simple two-layer neural network.\n",
        "\n",
        "    Arguments:\n",
        "    X -- input data (number of examples, input size)\n",
        "    Y -- true labels (number of examples,) - integer class labels\n",
        "    cache_simple -- dictionary containing \"Z1_simple\", \"A1_simple\", \"Z2_simple\", \"A2_simple\" from the forward pass\n",
        "    W2_simple -- weights of the output layer (hidden size, output size)\n",
        "\n",
        "    Returns:\n",
        "    grads_simple -- a dictionary with the gradients with respect to W1_simple, b1_simple, W2_simple, and b2_simple\n",
        "    \"\"\"\n",
        "    m = X.shape[0] # Number of examples\n",
        "    num_classes_simple = W2_simple.shape[1] # Number of output classes\n",
        "\n",
        "    A1_simple = cache_simple[\"A1_simple\"]\n",
        "    A2_simple = cache_simple[\"A2_simple\"]\n",
        "    Z1_simple = cache_simple[\"Z1_simple\"]\n",
        "    Z2_simple = cache_simple[\"Z2_simple\"]\n",
        "\n",
        "    # Convert integer labels to one-hot encoding for gradient calculation\n",
        "    Y_one_hot_simple = one_hot_encode(Y, num_classes_simple)\n",
        "\n",
        "    # Backward pass for the output layer (Linear -> Softmax)\n",
        "    # The derivative of the loss with respect to Z2 is A2 - Y for cross-entropy loss with Softmax\n",
        "    dZ2_simple = A2_simple - Y_one_hot_simple\n",
        "\n",
        "    # Gradients for W2 and b2\n",
        "    dW2_simple = (A1_simple.T @ dZ2_simple) / m\n",
        "    db2_simple = np.sum(dZ2_simple, axis=0, keepdims=True) / m\n",
        "\n",
        "    # Backward pass for the hidden layer (Linear -> ReLU)\n",
        "    # Gradient of loss with respect to A1\n",
        "    dA1_simple = dZ2_simple @ W2_simple.T\n",
        "\n",
        "    # Gradient of loss with respect to Z1 (using ReLU backward)\n",
        "    # We need to define relu_backward if it's not already defined.\n",
        "    # Assuming relu_backward is already defined from the main network implementation\n",
        "    dZ1_simple = relu_backward(dA1_simple, Z1_simple)\n",
        "\n",
        "    # Gradients for W1 and b1\n",
        "    dW1_simple = (X.T @ dZ1_simple) / m\n",
        "    db1_simple = np.sum(dZ1_simple, axis=0, keepdims=True) / m\n",
        "\n",
        "    grads_simple = {\"dW1_simple\": dW1_simple,\n",
        "                    \"db1_simple\": db1_simple,\n",
        "                    \"dW2_simple\": dW2_simple,\n",
        "                    \"db2_simple\": db2_simple}\n",
        "\n",
        "    return grads_simple\n",
        "\n",
        "print(\"backward_propagation_simple function defined.\")"
      ],
      "execution_count": 18,
      "outputs": [
        {
          "output_type": "stream",
          "name": "stdout",
          "text": [
            "backward_propagation_simple function defined.\n"
          ]
        }
      ]
    },
    {
      "cell_type": "markdown",
      "metadata": {
        "id": "ea61d598"
      },
      "source": [
        "## Implement optimization (simple sgd)\n",
        "\n",
        "### Subtask:\n",
        "Implement a basic SGD update rule.\n"
      ]
    },
    {
      "cell_type": "markdown",
      "metadata": {
        "id": "f1111946"
      },
      "source": [
        "**Reasoning**:\n",
        "Implement the simple SGD update rule function as requested.\n",
        "\n"
      ]
    },
    {
      "cell_type": "code",
      "metadata": {
        "colab": {
          "base_uri": "https://localhost:8080/"
        },
        "id": "b60697d2",
        "outputId": "c6f749e5-02df-43ed-a8e1-af0da2c2a1b6"
      },
      "source": [
        "def update_parameters_simple(W1_simple, b1_simple, W2_simple, b2_simple, grads_simple, learning_rate):\n",
        "    \"\"\"\n",
        "    Updates parameters for the simple network using the gradient descent update rule.\n",
        "\n",
        "    Arguments:\n",
        "    W1_simple -- weights matrix of shape (input_size, hidden_size)\n",
        "    b1_simple -- bias vector of shape (1, hidden_size)\n",
        "    W2_simple -- weights matrix of shape (hidden_size, output_size)\n",
        "    b2_simple -- bias vector of shape (1, output_size)\n",
        "    grads_simple -- python dictionary containing gradients with respect to weights and biases\n",
        "    learning_rate -- the learning rate for the update rule\n",
        "\n",
        "    Returns:\n",
        "    parameters_simple -- python dictionary containing the updated parameters\n",
        "    \"\"\"\n",
        "    # Retrieve gradients from grads_simple dictionary\n",
        "    dW1_simple = grads_simple[\"dW1_simple\"]\n",
        "    db1_simple = grads_simple[\"db1_simple\"]\n",
        "    dW2_simple = grads_simple[\"dW2_simple\"]\n",
        "    db2_simple = grads_simple[\"db2_simple\"]\n",
        "\n",
        "    # Implement the SGD update rule for each parameter\n",
        "    W1_simple = W1_simple - learning_rate * dW1_simple\n",
        "    b1_simple = b1_simple - learning_rate * db1_simple\n",
        "    W2_simple = W2_simple - learning_rate * dW2_simple\n",
        "    b2_simple = b2_simple - learning_rate * db2_simple\n",
        "\n",
        "    # Return a dictionary containing the updated parameters\n",
        "    parameters_simple = {\"W1_simple\": W1_simple,\n",
        "                         \"b1_simple\": b1_simple,\n",
        "                         \"W2_simple\": W2_simple,\n",
        "                         \"b2_simple\": b2_simple}\n",
        "\n",
        "    return parameters_simple\n",
        "\n",
        "# Print a confirmation message\n",
        "print(\"update_parameters_simple function defined.\")"
      ],
      "execution_count": 19,
      "outputs": [
        {
          "output_type": "stream",
          "name": "stdout",
          "text": [
            "update_parameters_simple function defined.\n"
          ]
        }
      ]
    },
    {
      "cell_type": "markdown",
      "metadata": {
        "id": "5bf07299"
      },
      "source": [
        "## Train the simple model\n",
        "\n",
        "### Subtask:\n",
        "Train the simple network on the generated data.\n"
      ]
    },
    {
      "cell_type": "markdown",
      "metadata": {
        "id": "239cc0e8"
      },
      "source": [
        "**Reasoning**:\n",
        "Implement the training loop for the simple neural network, including forward propagation, loss calculation, backward propagation, and parameter updates, and print the loss periodically.\n",
        "\n"
      ]
    },
    {
      "cell_type": "code",
      "metadata": {
        "colab": {
          "base_uri": "https://localhost:8080/"
        },
        "id": "bf5ed61e",
        "outputId": "41d5bba9-91fc-4033-c11c-7b4647c83d6f"
      },
      "source": [
        "# Define hyperparameters for simple model training\n",
        "num_epochs_simple = 10000\n",
        "learning_rate_simple = 0.01\n",
        "\n",
        "# Initialize parameters for the simple network\n",
        "# Reuse the initialization logic from the \"Initialize simple network parameters\" step\n",
        "W1_simple = np.random.randn(input_size_simple, hidden_size_simple) * 0.01\n",
        "b1_simple = np.zeros((1, hidden_size_simple))\n",
        "W2_simple = np.random.randn(hidden_size_simple, output_size_simple) * 0.01\n",
        "b2_simple = np.zeros((1, output_size_simple))\n",
        "\n",
        "# Create an empty list to store the loss values\n",
        "losses_simple = []\n",
        "\n",
        "# Training loop\n",
        "for i in range(num_epochs_simple):\n",
        "\n",
        "    # Forward propagation\n",
        "    A2_simple, cache_simple = forward_propagation_simple(X, W1_simple, b1_simple, W2_simple, b2_simple)\n",
        "\n",
        "    # Compute loss\n",
        "    loss_simple = compute_loss_simple(A2_simple, y)\n",
        "    losses_simple.append(loss_simple)\n",
        "\n",
        "    # Backward propagation\n",
        "    grads_simple = backward_propagation_simple(X, y, cache_simple, W2_simple)\n",
        "\n",
        "    # Update parameters\n",
        "    parameters_simple = update_parameters_simple(W1_simple, b1_simple, W2_simple, b2_simple, grads_simple, learning_rate_simple)\n",
        "\n",
        "    W1_simple = parameters_simple[\"W1_simple\"]\n",
        "    b1_simple = parameters_simple[\"b1_simple\"]\n",
        "    W2_simple = parameters_simple[\"W2_simple\"]\n",
        "    b2_simple = parameters_simple[\"b2_simple\"]\n",
        "\n",
        "    # Print loss every 1000 epochs\n",
        "    if i % 1000 == 0:\n",
        "        print(f\"Loss after epoch {i}: {loss_simple}\")\n",
        "\n",
        "print(\"\\nSimple model training finished.\")"
      ],
      "execution_count": 20,
      "outputs": [
        {
          "output_type": "stream",
          "name": "stdout",
          "text": [
            "Loss after epoch 0: 0.6932198879664068\n",
            "Loss after epoch 1000: 0.6849239492482551\n",
            "Loss after epoch 2000: 0.42168238191059315\n",
            "Loss after epoch 3000: 0.3145709762480146\n",
            "Loss after epoch 4000: 0.2934227475024925\n",
            "Loss after epoch 5000: 0.28651301183735206\n",
            "Loss after epoch 6000: 0.2833618985953969\n",
            "Loss after epoch 7000: 0.2815636366476742\n",
            "Loss after epoch 8000: 0.2805106411155108\n",
            "Loss after epoch 9000: 0.2797814452509776\n",
            "\n",
            "Simple model training finished.\n"
          ]
        }
      ]
    },
    {
      "cell_type": "markdown",
      "metadata": {
        "id": "22f4a8e9"
      },
      "source": [
        "## Evaluate the simple model\n",
        "\n",
        "### Subtask:\n",
        "Evaluate the model's performance.\n"
      ]
    },
    {
      "cell_type": "markdown",
      "metadata": {
        "id": "6e53c676"
      },
      "source": [
        "**Reasoning**:\n",
        "Implement the prediction and evaluation functions for the simple model and then use them to calculate and print the accuracy on the training data.\n",
        "\n"
      ]
    },
    {
      "cell_type": "code",
      "metadata": {
        "colab": {
          "base_uri": "https://localhost:8080/"
        },
        "id": "ea6c1db6",
        "outputId": "37f4bfed-9686-4a8d-bb52-ed46d80c5e5d"
      },
      "source": [
        "def predict_simple(X, parameters_simple):\n",
        "    \"\"\"\n",
        "    Makes predictions using the learned parameters for the simple network.\n",
        "\n",
        "    Arguments:\n",
        "    X -- input data (number of examples, input size)\n",
        "    parameters_simple -- python dictionary containing the learned parameters (W1_simple, b1_simple, W2_simple, b2_simple)\n",
        "\n",
        "    Returns:\n",
        "    predictions -- numpy array of predicted classes (shape: (number of examples,))\n",
        "    \"\"\"\n",
        "    W1_simple = parameters_simple[\"W1_simple\"]\n",
        "    b1_simple = parameters_simple[\"b1_simple\"]\n",
        "    W2_simple = parameters_simple[\"W2_simple\"]\n",
        "    b2_simple = parameters_simple[\"b2_simple\"]\n",
        "\n",
        "    # Forward propagation to get the output probabilities\n",
        "    A2_simple, cache_simple = forward_propagation_simple(X, W1_simple, b1_simple, W2_simple, b2_simple)\n",
        "\n",
        "    # Get the predicted class by finding the index of the maximum probability\n",
        "    predictions_simple = np.argmax(A2_simple, axis=1)\n",
        "\n",
        "    return predictions_simple\n",
        "\n",
        "def evaluate_accuracy_simple(predictions_simple, Y_true_simple):\n",
        "    \"\"\"\n",
        "    Calculates the accuracy of the predictions for the simple network.\n",
        "\n",
        "    Arguments:\n",
        "    predictions_simple -- numpy array of predicted classes (shape: (number of examples,))\n",
        "    Y_true_simple -- numpy array of true labels (shape: (number of examples,))\n",
        "\n",
        "    Returns:\n",
        "    accuracy -- the accuracy as a float between 0 and 1\n",
        "    \"\"\"\n",
        "    # Ensure Y_true_simple is a 1D array of integer labels\n",
        "    if Y_true_simple.ndim > 1:\n",
        "      Y_true_simple = np.argmax(Y_true_simple, axis=1) # Convert one-hot to integer labels if needed\n",
        "\n",
        "    accuracy_simple = np.mean(predictions_simple == Y_true_simple)\n",
        "    return accuracy_simple\n",
        "\n",
        "# Use the predict_simple function to get predictions on the simple training data\n",
        "simple_train_predictions = predict_simple(X, parameters_simple)\n",
        "\n",
        "# Use the evaluate_accuracy_simple function to calculate the accuracy\n",
        "simple_train_accuracy = evaluate_accuracy_simple(simple_train_predictions, y)\n",
        "\n",
        "# Print the calculated accuracy\n",
        "print(f\"Accuracy on the simple training set: {simple_train_accuracy * 100:.2f}%\")"
      ],
      "execution_count": 21,
      "outputs": [
        {
          "output_type": "stream",
          "name": "stdout",
          "text": [
            "Accuracy on the simple training set: 88.00%\n"
          ]
        }
      ]
    },
    {
      "cell_type": "markdown",
      "metadata": {
        "id": "bc1b74f5"
      },
      "source": [
        "## Visualize simple results\n",
        "\n",
        "### Subtask:\n",
        "Visualize the data and the model's decision boundary (if applicable) or predictions.\n"
      ]
    },
    {
      "cell_type": "markdown",
      "metadata": {
        "id": "f4e77a10"
      },
      "source": [
        "**Reasoning**:\n",
        "Visualize the data distribution, the training loss, and the decision boundary of the simple network to understand its performance.\n",
        "\n"
      ]
    },
    {
      "cell_type": "code",
      "metadata": {
        "colab": {
          "base_uri": "https://localhost:8080/",
          "height": 1000
        },
        "id": "d1f2bcf0",
        "outputId": "35380b16-ad01-439e-9938-157cec8507bd"
      },
      "source": [
        "# 2. Create a scatter plot of the simple dataset X, coloring the points based on the true labels y.\n",
        "plt.figure(figsize=(12, 6))\n",
        "\n",
        "plt.subplot(1, 2, 1) # Create a subplot for the data scatter plot\n",
        "plt.scatter(X[:, 0], X[:, 1], c=y, cmap=plt.cm.Spectral)\n",
        "plt.title(\"Simple Dataset Distribution\")\n",
        "plt.xlabel(\"Feature 1\")\n",
        "plt.ylabel(\"Feature 2\")\n",
        "\n",
        "# 3. Plot the training loss stored in losses_simple over the training epochs.\n",
        "plt.subplot(1, 2, 2) # Create a subplot for the loss plot\n",
        "plt.plot(losses_simple)\n",
        "plt.xlabel(\"Epoch\")\n",
        "plt.ylabel(\"Loss\")\n",
        "plt.title(\"Simple Model Training Loss over Epochs\")\n",
        "plt.grid(True)\n",
        "\n",
        "# 4. Create a meshgrid of points to cover the feature space of the simple dataset.\n",
        "# 5. Use the predict_simple function to predict the class for each point in the meshgrid.\n",
        "# 6. Plot the decision boundary by creating a contour plot of the predicted classes on the meshgrid.\n",
        "# 7. Overlay the scatter plot of the original data points on the decision boundary plot.\n",
        "# 8. Add appropriate titles and labels to both plots.\n",
        "# 9. Display both plots using plt.show().\n",
        "\n",
        "# Define the bounds of the meshgrid\n",
        "x_min, x_max = X[:, 0].min() - .5, X[:, 0].max() + .5\n",
        "y_min, y_max = X[:, 1].min() - .5, X[:, 1].max() + .5\n",
        "h = .01 # Step size in the mesh\n",
        "xx, yy = np.meshgrid(np.arange(x_min, x_max, h),\n",
        "                     np.arange(y_min, y_max, h))\n",
        "\n",
        "# Predict the function value for the whole grid\n",
        "Z = predict_simple(np.c_[xx.ravel(), yy.ravel()], parameters_simple)\n",
        "Z = Z.reshape(xx.shape)\n",
        "\n",
        "# Plot the contour and the data points\n",
        "plt.figure(figsize=(8, 6)) # New figure for the decision boundary\n",
        "plt.contourf(xx, yy, Z, cmap=plt.cm.Spectral, alpha=0.8)\n",
        "plt.scatter(X[:, 0], X[:, 1], c=y, cmap=plt.cm.Spectral)\n",
        "plt.title(\"Simple Model Decision Boundary\")\n",
        "plt.xlabel(\"Feature 1\")\n",
        "plt.ylabel(\"Feature 2\")\n",
        "plt.show()"
      ],
      "execution_count": 22,
      "outputs": [
        {
          "output_type": "display_data",
          "data": {
            "text/plain": [
              "<Figure size 1200x600 with 2 Axes>"
            ],
            "image/png": "[encoded data removed]"
          },
          "metadata": {}
        },
        {
          "output_type": "display_data",
          "data": {
            "text/plain": [
              "<Figure size 800x600 with 1 Axes>"
            ],
            "image/png": "[encoded data removed]"
          },
          "metadata": {}
        }
      ]
    },
    {
      "cell_type": "markdown",
      "metadata": {
        "id": "6d4f939b"
      },
      "source": [
        "## Summary:\n",
        "\n",
        "### Data Analysis Key Findings\n",
        "\n",
        "*   A simple dataset with 100 samples and 2 features, representing two classes, was successfully generated using `make_moons`.\n",
        "*   A simple two-layer neural network was initialized with random weights and zero biases. The input layer has 2 units, the hidden layer has 5 units, and the output layer has 2 units.\n",
        "*   The Sigmoid and ReLU activation functions were implemented from scratch.\n",
        "*   The forward propagation process for the simple network was implemented, including linear transformations and ReLU/Softmax activations.\n",
        "*   The binary cross-entropy loss function was implemented to calculate the difference between predicted probabilities and true labels.\n",
        "*   The backward propagation process was implemented to calculate gradients for weights and biases.\n",
        "*   A basic Stochastic Gradient Descent (SGD) update rule was implemented to adjust network parameters based on gradients and a learning rate.\n",
        "*   The simple model was trained for 10,000 epochs with a learning rate of 0.01. The training loss decreased significantly over time, indicating learning.\n",
        "*   The trained simple model achieved an accuracy of 88.00% on the training dataset.\n",
        "*   Visualizations were generated showing the distribution of the simple dataset, the decrease in training loss over epochs, and the learned decision boundary of the model.\n",
        "\n",
        "### Insights or Next Steps\n",
        "\n",
        "*   The successful training and evaluation of the simple network from scratch demonstrate the core concepts of neural networks.\n",
        "*   The visualization of the decision boundary provides a clear understanding of how the simple model separates the two classes in the feature space.\n"
      ]
    }
  ]
}